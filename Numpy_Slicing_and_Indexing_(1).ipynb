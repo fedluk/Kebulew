{
  "nbformat": 4,
  "nbformat_minor": 0,
  "metadata": {
    "kernelspec": {
      "display_name": "Python 3",
      "language": "python",
      "name": "python3"
    },
    "language_info": {
      "codemirror_mode": {
        "name": "ipython",
        "version": 3
      },
      "file_extension": ".py",
      "mimetype": "text/x-python",
      "name": "python",
      "nbconvert_exporter": "python",
      "pygments_lexer": "ipython3",
      "version": "3.8.3"
    },
    "colab": {
      "name": "Numpy Slicing and Indexing (1).ipynb",
      "provenance": [],
      "include_colab_link": true
    }
  },
  "cells": [
    {
      "cell_type": "markdown",
      "metadata": {
        "id": "view-in-github",
        "colab_type": "text"
      },
      "source": [
        "<a href=\"https://colab.research.google.com/github/fedluk/Kebulew/blob/master/Numpy_Slicing_and_Indexing_(1).ipynb\" target=\"_parent\"><img src=\"https://colab.research.google.com/assets/colab-badge.svg\" alt=\"Open In Colab\"/></a>"
      ]
    },
    {
      "cell_type": "markdown",
      "metadata": {
        "id": "-yhM3cjSWThQ",
        "colab_type": "text"
      },
      "source": [
        "## Import Numpy"
      ]
    },
    {
      "cell_type": "code",
      "metadata": {
        "id": "eXRHMZb9WThR",
        "colab_type": "code",
        "colab": {}
      },
      "source": [
        "import numpy as np"
      ],
      "execution_count": null,
      "outputs": []
    },
    {
      "cell_type": "code",
      "metadata": {
        "id": "wcX0zJ8TWThU",
        "colab_type": "code",
        "colab": {},
        "outputId": "7617552e-bcf7-4ebd-857f-e5566f9cf0d9"
      },
      "source": [
        "np.array([1,2,3]).shape # 3 columns 1 row"
      ],
      "execution_count": null,
      "outputs": [
        {
          "output_type": "execute_result",
          "data": {
            "text/plain": [
              "(3,)"
            ]
          },
          "metadata": {
            "tags": []
          },
          "execution_count": 3
        }
      ]
    },
    {
      "cell_type": "code",
      "metadata": {
        "id": "lxeN-kOlWThY",
        "colab_type": "code",
        "colab": {},
        "outputId": "2f5a7d2e-584d-4abd-9ca7-265b46adfe60"
      },
      "source": [
        "np.array([[1,2,3],[4,5,6],[7,8,9]]).shape # 3 columns 3 rows"
      ],
      "execution_count": null,
      "outputs": [
        {
          "output_type": "execute_result",
          "data": {
            "text/plain": [
              "(3, 3)"
            ]
          },
          "metadata": {
            "tags": []
          },
          "execution_count": 6
        }
      ]
    },
    {
      "cell_type": "code",
      "metadata": {
        "id": "a_jQ7hsIWThb",
        "colab_type": "code",
        "colab": {},
        "outputId": "b6c85c6a-389b-49e1-b201-785b532c9464"
      },
      "source": [
        "np.array([[7,8,9,19,11],[3,4,5,6,7]])"
      ],
      "execution_count": null,
      "outputs": [
        {
          "output_type": "execute_result",
          "data": {
            "text/plain": [
              "array([[ 7,  8,  9, 19, 11],\n",
              "       [ 3,  4,  5,  6,  7]])"
            ]
          },
          "metadata": {
            "tags": []
          },
          "execution_count": 8
        }
      ]
    },
    {
      "cell_type": "code",
      "metadata": {
        "id": "Wns86UBoWThd",
        "colab_type": "code",
        "colab": {},
        "outputId": "cf22f7ad-492c-4ba9-96f3-4c2f47d578cd"
      },
      "source": [
        "np.array([[7,8,9,19,11],[3,4,5,6,7]]).shape"
      ],
      "execution_count": null,
      "outputs": [
        {
          "output_type": "execute_result",
          "data": {
            "text/plain": [
              "(2, 5)"
            ]
          },
          "metadata": {
            "tags": []
          },
          "execution_count": 9
        }
      ]
    },
    {
      "cell_type": "markdown",
      "metadata": {
        "id": "RcAY4lDxWThg",
        "colab_type": "text"
      },
      "source": [
        "#### Bracket indexing and selection"
      ]
    },
    {
      "cell_type": "code",
      "metadata": {
        "id": "jU0YZ23UWThg",
        "colab_type": "code",
        "colab": {}
      },
      "source": [
        "arr = np.arange(0,11)"
      ],
      "execution_count": null,
      "outputs": []
    },
    {
      "cell_type": "code",
      "metadata": {
        "id": "R0GfhkztWThi",
        "colab_type": "code",
        "colab": {},
        "outputId": "d9610717-0f36-4f62-ed46-2a243848c7a8"
      },
      "source": [
        "arr"
      ],
      "execution_count": null,
      "outputs": [
        {
          "output_type": "execute_result",
          "data": {
            "text/plain": [
              "array([ 0,  1,  2,  3,  4,  5,  6,  7,  8,  9, 10])"
            ]
          },
          "metadata": {
            "tags": []
          },
          "execution_count": 11
        }
      ]
    },
    {
      "cell_type": "code",
      "metadata": {
        "id": "LQ2TnwCcWThm",
        "colab_type": "code",
        "colab": {},
        "outputId": "fed56196-de94-48a4-ee77-4117a91cec72"
      },
      "source": [
        "arr[8]"
      ],
      "execution_count": null,
      "outputs": [
        {
          "output_type": "execute_result",
          "data": {
            "text/plain": [
              "8"
            ]
          },
          "metadata": {
            "tags": []
          },
          "execution_count": 12
        }
      ]
    },
    {
      "cell_type": "code",
      "metadata": {
        "id": "6KaUq8o5WTho",
        "colab_type": "code",
        "colab": {},
        "outputId": "131e10c1-6412-484e-ffda-667dfa2e317c"
      },
      "source": [
        "arr[0:5]"
      ],
      "execution_count": null,
      "outputs": [
        {
          "output_type": "execute_result",
          "data": {
            "text/plain": [
              "array([0, 1, 2, 3, 4])"
            ]
          },
          "metadata": {
            "tags": []
          },
          "execution_count": 14
        }
      ]
    },
    {
      "cell_type": "markdown",
      "metadata": {
        "id": "neWgiWxIWThr",
        "colab_type": "text"
      },
      "source": [
        "#### broadcasting"
      ]
    },
    {
      "cell_type": "code",
      "metadata": {
        "id": "gs0i3yyuWThr",
        "colab_type": "code",
        "colab": {},
        "outputId": "6ec426a7-3785-440a-bacc-7e5f6edf9d4a"
      },
      "source": [
        "arr[0:5]=100\n",
        "arr"
      ],
      "execution_count": null,
      "outputs": [
        {
          "output_type": "execute_result",
          "data": {
            "text/plain": [
              "array([100, 100, 100, 100, 100,   5,   6,   7,   8,   9,  10])"
            ]
          },
          "metadata": {
            "tags": []
          },
          "execution_count": 15
        }
      ]
    },
    {
      "cell_type": "markdown",
      "metadata": {
        "id": "zHxazSklWTht",
        "colab_type": "text"
      },
      "source": [
        "### 2d array indexing"
      ]
    },
    {
      "cell_type": "code",
      "metadata": {
        "id": "AFsl63mZWThu",
        "colab_type": "code",
        "colab": {},
        "outputId": "2811ed02-d892-447d-9083-79011af5c75b"
      },
      "source": [
        "arr2 = np.arange(0,25).reshape(5,5)\n",
        "arr2"
      ],
      "execution_count": null,
      "outputs": [
        {
          "output_type": "execute_result",
          "data": {
            "text/plain": [
              "array([[ 0,  1,  2,  3,  4],\n",
              "       [ 5,  6,  7,  8,  9],\n",
              "       [10, 11, 12, 13, 14],\n",
              "       [15, 16, 17, 18, 19],\n",
              "       [20, 21, 22, 23, 24]])"
            ]
          },
          "metadata": {
            "tags": []
          },
          "execution_count": 17
        }
      ]
    },
    {
      "cell_type": "code",
      "metadata": {
        "id": "DJs9NOUIWThw",
        "colab_type": "code",
        "colab": {},
        "outputId": "d51878e3-8095-4c99-958b-467fd323cdeb"
      },
      "source": [
        "arr2[1][4]"
      ],
      "execution_count": null,
      "outputs": [
        {
          "output_type": "execute_result",
          "data": {
            "text/plain": [
              "9"
            ]
          },
          "metadata": {
            "tags": []
          },
          "execution_count": 20
        }
      ]
    },
    {
      "cell_type": "code",
      "metadata": {
        "id": "TICprrXcWThz",
        "colab_type": "code",
        "colab": {},
        "outputId": "4ff57c4a-d19b-4078-8f56-2c37a4c28bad"
      },
      "source": [
        "arr2[2:,2:]"
      ],
      "execution_count": null,
      "outputs": [
        {
          "output_type": "execute_result",
          "data": {
            "text/plain": [
              "array([[12, 13, 14],\n",
              "       [17, 18, 19],\n",
              "       [22, 23, 24]])"
            ]
          },
          "metadata": {
            "tags": []
          },
          "execution_count": 27
        }
      ]
    },
    {
      "cell_type": "markdown",
      "metadata": {
        "id": "OSLIUImRWTh1",
        "colab_type": "text"
      },
      "source": [
        "#### Selection"
      ]
    },
    {
      "cell_type": "code",
      "metadata": {
        "id": "vxLcqg6tWTh1",
        "colab_type": "code",
        "colab": {},
        "outputId": "366c357c-2547-4fb2-c985-adad9d305de1"
      },
      "source": [
        "arr = np.arange(0,11) \n",
        "arr"
      ],
      "execution_count": null,
      "outputs": [
        {
          "output_type": "execute_result",
          "data": {
            "text/plain": [
              "array([ 0,  1,  2,  3,  4,  5,  6,  7,  8,  9, 10])"
            ]
          },
          "metadata": {
            "tags": []
          },
          "execution_count": 30
        }
      ]
    },
    {
      "cell_type": "code",
      "metadata": {
        "id": "CCi0YWBXWTh4",
        "colab_type": "code",
        "colab": {},
        "outputId": "4512f7e3-c6aa-4dc4-a288-904e6769ee0b"
      },
      "source": [
        "arr>4"
      ],
      "execution_count": null,
      "outputs": [
        {
          "output_type": "execute_result",
          "data": {
            "text/plain": [
              "array([False, False, False, False, False,  True,  True,  True,  True,\n",
              "        True,  True])"
            ]
          },
          "metadata": {
            "tags": []
          },
          "execution_count": 31
        }
      ]
    },
    {
      "cell_type": "code",
      "metadata": {
        "id": "SMi1CtUsWTh6",
        "colab_type": "code",
        "colab": {},
        "outputId": "b2645fe3-3a8f-4f70-eda9-96d7d9ec5ff5"
      },
      "source": [
        "arr[arr>4]"
      ],
      "execution_count": null,
      "outputs": [
        {
          "output_type": "execute_result",
          "data": {
            "text/plain": [
              "array([ 5,  6,  7,  8,  9, 10])"
            ]
          },
          "metadata": {
            "tags": []
          },
          "execution_count": 32
        }
      ]
    },
    {
      "cell_type": "markdown",
      "metadata": {
        "id": "UlcG-ZjtWTh9",
        "colab_type": "text"
      },
      "source": [
        "# Great Job !"
      ]
    }
  ]
}